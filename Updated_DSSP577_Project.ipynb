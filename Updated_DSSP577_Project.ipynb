{
 "cells": [
  {
   "cell_type": "markdown",
   "metadata": {},
   "source": [
    "This notebook contains the implementation of SVM, FFNN, and CNN to Pneumonia data set using SVM with and without PCA "
   ]
  },
  {
   "cell_type": "code",
   "execution_count": 2,
   "metadata": {},
   "outputs": [],
   "source": [
    "import os\n",
    "import numpy as np\n",
    "import pydicom\n",
    "import cv2\n",
    "import cv2\n",
    "from sklearn.model_selection import train_test_split\n",
    "from sklearn.svm import SVC\n",
    "from sklearn.metrics import classification_report, accuracy_score\n",
    "from sklearn.preprocessing import StandardScaler\n",
    "from tqdm import tqdm\n"
   ]
  },
  {
   "cell_type": "code",
   "execution_count": 3,
   "metadata": {},
   "outputs": [],
   "source": [
    "import cv2"
   ]
  },
  {
   "cell_type": "code",
   "execution_count": 4,
   "metadata": {},
   "outputs": [],
   "source": [
    "\n",
    "# setting paths \n",
    "data_dir = '/Users/Lpinheiro/Desktop/MS Data Science/DSP 577/rsna-pneumonia-detection-challenge/pneumonia_data'\n"
   ]
  },
  {
   "cell_type": "code",
   "execution_count": 5,
   "metadata": {},
   "outputs": [],
   "source": [
    "train_images_dir = os.path.join(data_dir, 'stage_2_train_images')"
   ]
  },
  {
   "cell_type": "code",
   "execution_count": 6,
   "metadata": {},
   "outputs": [],
   "source": [
    "\n",
    "train_labels_file = os.path.join(data_dir, 'stage_2_train_labels.csv')\n"
   ]
  },
  {
   "cell_type": "code",
   "execution_count": 7,
   "metadata": {},
   "outputs": [],
   "source": [
    "\n",
    "# loading labels \n",
    "import pandas as pd\n",
    "labels = pd.read_csv(train_labels_file)\n"
   ]
  },
  {
   "cell_type": "code",
   "execution_count": 8,
   "metadata": {},
   "outputs": [],
   "source": [
    "\n",
    "# labels: 1 = pneumonia, 0 = no pneumonia\n",
    "labels['Target'] = labels['Target'].apply(lambda x: 1 if x == 1 else 0)\n",
    "labels = labels[['patientId', 'Target']].drop_duplicates()\n"
   ]
  },
  {
   "cell_type": "code",
   "execution_count": 9,
   "metadata": {},
   "outputs": [],
   "source": [
    "# image preprocessing \n",
    "# this reduces the images to the desired size\n",
    "# it does not flatten the images \n",
    "def preprocess_images(image_dir, labels_df, img_size):\n",
    "    images = []\n",
    "    targets = []\n",
    "    for _, row in tqdm(labels_df.iterrows(), total=len(labels_df)):\n",
    "        patient_id = row['patientId']\n",
    "        target = row['Target']\n",
    "        image_path = os.path.join(image_dir, f'{patient_id}.dcm')\n",
    "\n",
    "        # Load and preprocess DICOM image\n",
    "        try:\n",
    "            dicom = pydicom.dcmread(image_path)\n",
    "            img = dicom.pixel_array\n",
    "            img_resized = cv2.resize(img, (img_size, img_size))\n",
    "            images.append(img_resized) \n",
    "            targets.append(target)\n",
    "        except Exception as e:\n",
    "            print(f'Error processing {patient_id}: {e}')\n",
    "\n",
    "    return np.array(images), np.array(targets)\n"
   ]
  },
  {
   "cell_type": "code",
   "execution_count": 10,
   "metadata": {},
   "outputs": [],
   "source": [
    "\n",
    "# PCA\n",
    "# the function flattens images to a vector as required by PCA\n",
    "from sklearn.decomposition import PCA\n",
    "\n",
    "\n",
    "def apply_pca(images, n_components):\n",
    "    # Flatten each image to 1D (assuming images have shape (samples, height, width, channels))\n",
    "    n_samples = images.shape[0]\n",
    "    flattened_images = images.reshape(n_samples, -1)  # Flatten each image to a 1D vector\n",
    "    \n",
    "    # Apply PCA\n",
    "    pca = PCA(n_components=n_components)\n",
    "    reduced_images = pca.fit_transform(flattened_images)\n",
    "    \n",
    "    print(f'Dimensionality reduced to {n_components} components.')\n",
    "    return reduced_images, pca\n",
    "\n"
   ]
  },
  {
   "cell_type": "code",
   "execution_count": 11,
   "metadata": {},
   "outputs": [],
   "source": [
    "# t-SNE\n",
    "\n",
    "from sklearn.manifold import TSNE\n",
    "\n",
    "def apply_tsne(images, n_components, perplexity=30, random_state=None):\n",
    "    tsne = TSNE(n_components=n_components, perplexity=perplexity, random_state=random_state)\n",
    "    reduced_images = tsne.fit_transform(images)\n",
    "    print(f'Dimensionality reduced to {n_components} components using t-SNE.')\n",
    "    return reduced_images\n",
    "\n"
   ]
  },
  {
   "cell_type": "code",
   "execution_count": 12,
   "metadata": {},
   "outputs": [],
   "source": [
    "# Preprocess images\n",
    "img_size=128\n"
   ]
  },
  {
   "cell_type": "code",
   "execution_count": 13,
   "metadata": {},
   "outputs": [
    {
     "name": "stderr",
     "output_type": "stream",
     "text": [
      "100%|██████████| 26684/26684 [05:45<00:00, 77.17it/s]\n"
     ]
    }
   ],
   "source": [
    "X, y = preprocess_images(image_dir=train_images_dir, labels_df=labels, img_size=img_size)\n"
   ]
  },
  {
   "cell_type": "code",
   "execution_count": 14,
   "metadata": {},
   "outputs": [
    {
     "name": "stdout",
     "output_type": "stream",
     "text": [
      "Dimensionality reduced to 50 components.\n"
     ]
    }
   ],
   "source": [
    "\n",
    "# Apply PCA\n",
    "X_pca, pca_model = apply_pca(X, n_components=50)\n"
   ]
  },
  {
   "cell_type": "code",
   "execution_count": 14,
   "metadata": {},
   "outputs": [
    {
     "name": "stdout",
     "output_type": "stream",
     "text": [
      "Dimensionality reduced to 3 components using t-SNE.\n"
     ]
    }
   ],
   "source": [
    "\n",
    "# Apply t-SNE\n",
    "X_tsne = apply_tsne(X, n_components=3, perplexity=30, random_state=31415)\n"
   ]
  },
  {
   "cell_type": "code",
   "execution_count": 21,
   "metadata": {},
   "outputs": [],
   "source": [
    "\n",
    "from sklearn.model_selection import train_test_split"
   ]
  },
  {
   "cell_type": "code",
   "execution_count": 15,
   "metadata": {},
   "outputs": [],
   "source": [
    "\n",
    "# select a subset of 1000 images\n",
    "# change X to X_pca or X_tsne accordingly \n",
    "X_subset, _, y_subset, _ = train_test_split(X_pca, y, \n",
    "                                            random_state=42,\n",
    "                                            stratify=y)\n"
   ]
  },
  {
   "cell_type": "code",
   "execution_count": 16,
   "metadata": {},
   "outputs": [],
   "source": [
    "# First, split the data into training+validation and test sets\n",
    "X_train_val, X_test, y_train_val, y_test = train_test_split(\n",
    "    X_subset, y_subset, test_size=0.2, random_state=31415, stratify=y_subset\n",
    ")\n",
    "\n",
    "# Now, split the training+validation set into training and validation sets\n",
    "X_train, X_val, y_train, y_val = train_test_split(\n",
    "    X_train_val, y_train_val, test_size=0.2, random_state=31415, stratify=y_train_val\n",
    ")\n",
    "# training, testing, and validation  split\n",
    "\n",
    "#X_train, X_test, y_train, y_test = train_test_split(X_subset, y_subset, test_size=0.2, random_state=31415, stratify=y_subset)\n"
   ]
  },
  {
   "cell_type": "code",
   "execution_count": 17,
   "metadata": {},
   "outputs": [],
   "source": [
    "\n",
    "# scale data\n",
    "scaler = StandardScaler()\n",
    "X_train_scaled = scaler.fit_transform(X_train)\n",
    "X_test_scaled = scaler.transform(X_test)\n"
   ]
  },
  {
   "cell_type": "code",
   "execution_count": 18,
   "id": "e011e875",
   "metadata": {},
   "outputs": [
    {
     "name": "stdout",
     "output_type": "stream",
     "text": [
      "Runtime: 9.95 seconds\n",
      "CPU Usage: 3.10%\n",
      "Memory Used: 346.75 MB\n",
      "GPU Memory Used: N/A MB\n"
     ]
    }
   ],
   "source": [
    "\n",
    "import time\n",
    "import psutil\n",
    "import torch\n",
    "\n",
    "start_time = time.time()\n",
    "cpu_start = psutil.cpu_percent(interval=None)\n",
    "mem_start = psutil.virtual_memory().used\n",
    "\n",
    "# Original code\n",
    "\n",
    "# train SVM\n",
    "svm_model = SVC(kernel='linear', C=1.0, random_state=31415)\n",
    "svm_model.fit(X_train_scaled, y_train)\n",
    "\n",
    "\n",
    "# Resource tracking\n",
    "end_time = time.time()\n",
    "cpu_end = psutil.cpu_percent(interval=None)\n",
    "mem_end = psutil.virtual_memory().used\n",
    "\n",
    "# GPU tracking (if available)\n",
    "if torch.cuda.is_available():\n",
    "    gpu_mem = torch.cuda.memory_allocated() / 1024**2\n",
    "else:\n",
    "    gpu_mem = \"N/A\"\n",
    "\n",
    "print(f\"Runtime: {end_time - start_time:.2f} seconds\")\n",
    "print(f\"CPU Usage: {cpu_end - cpu_start:.2f}%\")\n",
    "print(f\"Memory Used: {(mem_end - mem_start) / 1024**2:.2f} MB\")\n",
    "print(f\"GPU Memory Used: {gpu_mem} MB\")\n"
   ]
  },
  {
   "cell_type": "code",
   "execution_count": 19,
   "metadata": {},
   "outputs": [
    {
     "name": "stdout",
     "output_type": "stream",
     "text": [
      "Accuracy: 0.7746689982513115\n",
      "Classification Report:\n",
      "              precision    recall  f1-score   support\n",
      "\n",
      "           0       0.77      1.00      0.87      3101\n",
      "           1       0.00      0.00      0.00       902\n",
      "\n",
      "    accuracy                           0.77      4003\n",
      "   macro avg       0.39      0.50      0.44      4003\n",
      "weighted avg       0.60      0.77      0.68      4003\n",
      "\n"
     ]
    },
    {
     "name": "stderr",
     "output_type": "stream",
     "text": [
      "/Users/Lpinheiro/anaconda3/lib/python3.11/site-packages/sklearn/metrics/_classification.py:1531: UndefinedMetricWarning: Precision is ill-defined and being set to 0.0 in labels with no predicted samples. Use `zero_division` parameter to control this behavior.\n",
      "  _warn_prf(average, modifier, f\"{metric.capitalize()} is\", len(result))\n",
      "/Users/Lpinheiro/anaconda3/lib/python3.11/site-packages/sklearn/metrics/_classification.py:1531: UndefinedMetricWarning: Precision is ill-defined and being set to 0.0 in labels with no predicted samples. Use `zero_division` parameter to control this behavior.\n",
      "  _warn_prf(average, modifier, f\"{metric.capitalize()} is\", len(result))\n",
      "/Users/Lpinheiro/anaconda3/lib/python3.11/site-packages/sklearn/metrics/_classification.py:1531: UndefinedMetricWarning: Precision is ill-defined and being set to 0.0 in labels with no predicted samples. Use `zero_division` parameter to control this behavior.\n",
      "  _warn_prf(average, modifier, f\"{metric.capitalize()} is\", len(result))\n"
     ]
    }
   ],
   "source": [
    "\n",
    "# evaluate SVM \n",
    "y_pred = svm_model.predict(X_test_scaled)\n",
    "print('Accuracy:', accuracy_score(y_test, y_pred))\n",
    "print('Classification Report:')\n",
    "print(classification_report(y_test, y_pred))\n"
   ]
  },
  {
   "cell_type": "code",
   "execution_count": 20,
   "metadata": {},
   "outputs": [],
   "source": [
    "# Feed Forward Neural Network (FFNN) Implementation\n",
    "import tensorflow as tf\n",
    "from tensorflow import keras\n",
    "from tensorflow.keras.models import Sequential\n",
    "from tensorflow.keras.layers import Dense, Flatten\n"
   ]
  },
  {
   "cell_type": "code",
   "execution_count": 21,
   "metadata": {},
   "outputs": [],
   "source": [
    "\n",
    "# FFNN model\n",
    "ffnn_model = Sequential([\n",
    "    #Flatten(input_shape=(img_size, img_size)),  # Flatten image data\n",
    "    Dense(128, activation='relu'),\n",
    "    Dense(64, activation='relu'),\n",
    "    Dense(1, activation='sigmoid')  # Binary classification output\n",
    "])\n"
   ]
  },
  {
   "cell_type": "code",
   "execution_count": 22,
   "metadata": {},
   "outputs": [],
   "source": [
    "\n",
    "# compile FFNN model\n",
    "ffnn_model.compile(optimizer='adam', loss='binary_crossentropy', metrics=['accuracy'])"
   ]
  },
  {
   "cell_type": "code",
   "execution_count": 23,
   "id": "2f2ca896",
   "metadata": {},
   "outputs": [
    {
     "name": "stdout",
     "output_type": "stream",
     "text": [
      "Epoch 1/10\n",
      "\u001b[1m1601/1601\u001b[0m \u001b[32m━━━━━━━━━━━━━━━━━━━━\u001b[0m\u001b[37m\u001b[0m \u001b[1m2s\u001b[0m 916us/step - accuracy: 0.7275 - loss: 30.7792 - val_accuracy: 0.6749 - val_loss: 5.5327\n",
      "Epoch 2/10\n",
      "\u001b[1m1601/1601\u001b[0m \u001b[32m━━━━━━━━━━━━━━━━━━━━\u001b[0m\u001b[37m\u001b[0m \u001b[1m1s\u001b[0m 868us/step - accuracy: 0.7586 - loss: 2.9504 - val_accuracy: 0.7542 - val_loss: 0.7691\n",
      "Epoch 3/10\n",
      "\u001b[1m1601/1601\u001b[0m \u001b[32m━━━━━━━━━━━━━━━━━━━━\u001b[0m\u001b[37m\u001b[0m \u001b[1m1s\u001b[0m 848us/step - accuracy: 0.7853 - loss: 0.5363 - val_accuracy: 0.7636 - val_loss: 0.5492\n",
      "Epoch 4/10\n",
      "\u001b[1m1601/1601\u001b[0m \u001b[32m━━━━━━━━━━━━━━━━━━━━\u001b[0m\u001b[37m\u001b[0m \u001b[1m1s\u001b[0m 863us/step - accuracy: 0.7923 - loss: 0.4516 - val_accuracy: 0.7623 - val_loss: 0.6029\n",
      "Epoch 5/10\n",
      "\u001b[1m1601/1601\u001b[0m \u001b[32m━━━━━━━━━━━━━━━━━━━━\u001b[0m\u001b[37m\u001b[0m \u001b[1m1s\u001b[0m 848us/step - accuracy: 0.7921 - loss: 0.4527 - val_accuracy: 0.7914 - val_loss: 0.4893\n",
      "Epoch 6/10\n",
      "\u001b[1m1601/1601\u001b[0m \u001b[32m━━━━━━━━━━━━━━━━━━━━\u001b[0m\u001b[37m\u001b[0m \u001b[1m1s\u001b[0m 855us/step - accuracy: 0.7953 - loss: 0.4350 - val_accuracy: 0.7892 - val_loss: 0.4918\n",
      "Epoch 7/10\n",
      "\u001b[1m1601/1601\u001b[0m \u001b[32m━━━━━━━━━━━━━━━━━━━━\u001b[0m\u001b[37m\u001b[0m \u001b[1m1s\u001b[0m 858us/step - accuracy: 0.7874 - loss: 0.4482 - val_accuracy: 0.7804 - val_loss: 0.4636\n",
      "Epoch 8/10\n",
      "\u001b[1m1601/1601\u001b[0m \u001b[32m━━━━━━━━━━━━━━━━━━━━\u001b[0m\u001b[37m\u001b[0m \u001b[1m1s\u001b[0m 842us/step - accuracy: 0.7899 - loss: 0.4638 - val_accuracy: 0.7854 - val_loss: 0.5149\n",
      "Epoch 9/10\n",
      "\u001b[1m1601/1601\u001b[0m \u001b[32m━━━━━━━━━━━━━━━━━━━━\u001b[0m\u001b[37m\u001b[0m \u001b[1m1s\u001b[0m 912us/step - accuracy: 0.7863 - loss: 0.4837 - val_accuracy: 0.7742 - val_loss: 0.4863\n",
      "Epoch 10/10\n",
      "\u001b[1m1601/1601\u001b[0m \u001b[32m━━━━━━━━━━━━━━━━━━━━\u001b[0m\u001b[37m\u001b[0m \u001b[1m1s\u001b[0m 848us/step - accuracy: 0.7782 - loss: 0.4306 - val_accuracy: 0.7786 - val_loss: 0.4726\n",
      "Runtime: 14.77 seconds\n",
      "CPU Usage: 14.80%\n",
      "Memory Used: -46.03 MB\n",
      "GPU Memory Used: N/A MB\n"
     ]
    }
   ],
   "source": [
    "\n",
    "import time\n",
    "import psutil\n",
    "import torch\n",
    "\n",
    "start_time = time.time()\n",
    "cpu_start = psutil.cpu_percent(interval=None)\n",
    "mem_start = psutil.virtual_memory().used\n",
    "\n",
    "# Original code\n",
    "# fit model \n",
    "\n",
    "history= ffnn_model.fit(X_train, y_train, epochs=10, batch_size=8, validation_data=(X_val, y_val))\n",
    "\n",
    "\n",
    "# Resource tracking\n",
    "end_time = time.time()\n",
    "cpu_end = psutil.cpu_percent(interval=None)\n",
    "mem_end = psutil.virtual_memory().used\n",
    "\n",
    "# GPU tracking (if available)\n",
    "if torch.cuda.is_available():\n",
    "    gpu_mem = torch.cuda.memory_allocated() / 1024**2\n",
    "    \n",
    "else:\n",
    "    gpu_mem = \"N/A\"\n",
    "\n",
    "print(f\"Runtime: {end_time - start_time:.2f} seconds\")\n",
    "print(f\"CPU Usage: {cpu_end - cpu_start:.2f}%\")\n",
    "print(f\"Memory Used: {(mem_end - mem_start) / 1024**2:.2f} MB\")\n",
    "print(f\"GPU Memory Used: {gpu_mem} MB\")\n"
   ]
  },
  {
   "cell_type": "code",
   "execution_count": 25,
   "metadata": {},
   "outputs": [
    {
     "data": {
      "text/plain": [
       "5854.625"
      ]
     },
     "execution_count": 25,
     "metadata": {},
     "output_type": "execute_result"
    }
   ],
   "source": [
    "mem_end/1024**2\n"
   ]
  },
  {
   "cell_type": "code",
   "execution_count": 32,
   "metadata": {},
   "outputs": [
    {
     "data": {
      "image/png": "[encoded data removed]",
      "text/plain": [
       "<Figure size 800x600 with 1 Axes>"
      ]
     },
     "metadata": {},
     "output_type": "display_data"
    }
   ],
   "source": [
    "import matplotlib.pyplot as plt\n",
    "\n",
    "plt.figure(figsize=(8, 6))\n",
    "plt.plot(history.history['loss'], label='Train Loss')\n",
    "plt.plot(history.history['val_loss'], label='Validation Loss')\n",
    "plt.title('Loss Function by Epochs')\n",
    "plt.xlabel('Epochs')\n",
    "plt.ylabel('Loss')\n",
    "plt.legend()\n",
    "plt.grid(True)\n",
    "plt.show()"
   ]
  },
  {
   "cell_type": "code",
   "execution_count": 33,
   "metadata": {},
   "outputs": [
    {
     "name": "stdout",
     "output_type": "stream",
     "text": [
      "\u001b[1m126/126\u001b[0m \u001b[32m━━━━━━━━━━━━━━━━━━━━\u001b[0m\u001b[37m\u001b[0m \u001b[1m0s\u001b[0m 1ms/step - accuracy: 0.7771 - loss: 0.4606  \n",
      "FFNN Test Accuracy: 0.78\n"
     ]
    }
   ],
   "source": [
    "\n",
    "# evaluate FFNN model\n",
    "ffnn_loss, ffnn_acc = ffnn_model.evaluate(X_test, y_test)\n",
    "print(f\"FFNN Test Accuracy: {ffnn_acc:.2f}\")\n",
    "\n"
   ]
  },
  {
   "cell_type": "code",
   "execution_count": 55,
   "metadata": {},
   "outputs": [],
   "source": [
    "# CNN model using keras\n",
    "\n",
    "def build_cnn(img_size):\n",
    "    model = keras.Sequential([\n",
    "        layers.Conv2D(32, (3,3), activation='relu', input_shape=(img_size, img_size, 1)),\n",
    "        layers.MaxPooling2D(2,2),\n",
    "        layers.Conv2D(64, (3,3), activation='relu'),\n",
    "        layers.MaxPooling2D(2,2),\n",
    "        layers.Conv2D(128, (3,3), activation='relu'),\n",
    "        layers.MaxPooling2D(2,2),\n",
    "        layers.Flatten(),\n",
    "        layers.Dense(128, activation='relu'),\n",
    "        layers.Dense(1, activation='sigmoid')  # Binary classification\n",
    "    ])\n",
    "\n",
    "    model.compile(optimizer='adam', loss='binary_crossentropy', metrics=['accuracy'])\n",
    "    return model"
   ]
  },
  {
   "cell_type": "code",
   "execution_count": 53,
   "metadata": {},
   "outputs": [],
   "source": [
    "\n",
    "#Example usage:\n",
    "import tensorflow as tf\n",
    "from tensorflow import keras\n",
    "from tensorflow.keras import layers\n",
    "CNN = build_cnn(128)\n"
   ]
  },
  {
   "cell_type": "code",
   "execution_count": 56,
   "metadata": {},
   "outputs": [],
   "source": [
    "# First, split the data into training+validation and test sets\n",
    "X_train_val, X_test, y_train_val, y_test = train_test_split(\n",
    "    X, y, test_size=0.2, random_state=31415, stratify=y\n",
    ")\n"
   ]
  },
  {
   "cell_type": "code",
   "execution_count": 57,
   "metadata": {},
   "outputs": [],
   "source": [
    "\n",
    "# Now, split the training+validation set into training and validation sets\n",
    "X_train, X_val, y_train, y_val = train_test_split(\n",
    "    X_train_val, y_train_val, test_size=0.2, random_state=31415, stratify=y_train_val\n",
    ")\n"
   ]
  },
  {
   "cell_type": "code",
   "execution_count": null,
   "id": "1f9ee75c",
   "metadata": {},
   "outputs": [],
   "source": [
    "\n",
    "import time\n",
    "import psutil\n",
    "import torch\n",
    "\n",
    "start_time = time.time()\n",
    "cpu_start = psutil.cpu_percent(interval=None)\n",
    "mem_start = psutil.virtual_memory().used\n",
    "\n",
    "# Original code\n",
    "# This takes 17 minutes or so with 1000 images \n",
    "CNN.fit(X_train, y_train, epochs=10, batch_size=32, validation_data=(X_val, y_val))\n",
    "\n",
    "\n",
    "# Resource tracking\n",
    "end_time = time.time()\n",
    "cpu_end = psutil.cpu_percent(interval=None)\n",
    "mem_end = psutil.virtual_memory().used\n",
    "\n",
    "# GPU tracking (if available)\n",
    "if torch.cuda.is_available():\n",
    "    gpu_mem = torch.cuda.memory_allocated() / 1024**2\n",
    "else:\n",
    "    gpu_mem = \"N/A\"\n",
    "\n",
    "print(f\"Runtime: {end_time - start_time:.2f} seconds\")\n",
    "print(f\"CPU Usage: {cpu_end - cpu_start:.2f}%\")\n",
    "print(f\"Memory Used: {(mem_end - mem_start) / 1024**2:.2f} MB\")\n",
    "print(f\"GPU Memory Used: {gpu_mem} MB\")\n"
   ]
  },
  {
   "cell_type": "code",
   "execution_count": 59,
   "metadata": {},
   "outputs": [
    {
     "name": "stdout",
     "output_type": "stream",
     "text": [
      "\u001b[1m167/167\u001b[0m \u001b[32m━━━━━━━━━━━━━━━━━━━━\u001b[0m\u001b[37m\u001b[0m \u001b[1m14s\u001b[0m 82ms/step\n"
     ]
    },
    {
     "data": {
      "image/png": "[encoded data removed]",
      "text/plain": [
       "<Figure size 600x500 with 2 Axes>"
      ]
     },
     "metadata": {},
     "output_type": "display_data"
    },
    {
     "name": "stdout",
     "output_type": "stream",
     "text": [
      "Accuracy: 0.7937043282743114\n",
      "Classification Report:\n",
      "               precision    recall  f1-score   support\n",
      "\n",
      "No Pneumonia       0.84      0.91      0.87      4135\n",
      "   Pneumonia       0.56      0.39      0.46      1202\n",
      "\n",
      "    accuracy                           0.79      5337\n",
      "   macro avg       0.70      0.65      0.67      5337\n",
      "weighted avg       0.77      0.79      0.78      5337\n",
      "\n"
     ]
    }
   ],
   "source": [
    "from sklearn.metrics import confusion_matrix, classification_report, accuracy_score\n",
    "import seaborn as sns\n",
    "import matplotlib.pyplot as plt\n",
    "\n",
    "# Get model predictions\n",
    "y_pred_probs =CNN.predict(X_test)  # Probabilities\n",
    "y_pred = (y_pred_probs > 0.5).astype(int)  # Convert to binary labels\n",
    "\n",
    "# Compute confusion matrix\n",
    "conf_matrix = confusion_matrix(y_test, y_pred)\n",
    "\n",
    "# Plot confusion matrix\n",
    "plt.figure(figsize=(6,5))\n",
    "sns.heatmap(conf_matrix, annot=True, fmt='d', cmap='Blues', xticklabels=['No Pneumonia', 'Pneumonia'], yticklabels=['No Pneumonia', 'Pneumonia'])\n",
    "plt.xlabel('Predicted Label')\n",
    "plt.ylabel('True Label')\n",
    "plt.title('Confusion Matrix')\n",
    "plt.show()\n",
    "\n",
    "# Print performance metrics\n",
    "print('Accuracy:', accuracy_score(y_test, y_pred))\n",
    "print('Classification Report:\\n', classification_report(y_test, y_pred, target_names=['No Pneumonia', 'Pneumonia']))"
   ]
  }
 ],
 "metadata": {
  "kernelspec": {
   "display_name": "base",
   "language": "python",
   "name": "python3"
  },
  "language_info": {
   "codemirror_mode": {
    "name": "ipython",
    "version": 3
   },
   "file_extension": ".py",
   "mimetype": "text/x-python",
   "name": "python",
   "nbconvert_exporter": "python",
   "pygments_lexer": "ipython3",
   "version": "3.11.5"
  }
 },
 "nbformat": 4,
 "nbformat_minor": 4
}
